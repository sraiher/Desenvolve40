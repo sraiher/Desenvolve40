{
 "cells": [
  {
   "cell_type": "markdown",
   "metadata": {},
   "source": [
    "<h1>ARQUIVOS</h1>"
   ]
  },
  {
   "cell_type": "markdown",
   "metadata": {},
   "source": [
    "<h3>1.1\tAbrindo e fechando arquivos</h3>\n",
    "<br>\n",
    "<br>\n",
    "Persistência\n",
    "<br>\n",
    "<br>\n",
    "Podemos criar arquivos novos ou abrir arquivos já existentes utilizando a função 'open'. <br>\n",
    "\n",
    "Ela possui 2 argumentos: uma com o caminho do arquivo e outra com o modo da operação."
   ]
  },
  {
   "cell_type": "markdown",
   "metadata": {},
   "source": [
    "MODO: <i>read</i> <br>\n",
    "\n",
    "SÍMBOLO: <i>r</i> <br>\n",
    "\n",
    "DESCRIÇÃO: lê um arquivo existente"
   ]
  },
  {
   "cell_type": "markdown",
   "metadata": {},
   "source": [
    "MODO: <i>write</i> <br>\n",
    "\n",
    "SÍMBOLO: <i>w</i> <br>\n",
    "\n",
    "DESCRIÇÃO: cria um novo arquivo"
   ]
  },
  {
   "cell_type": "markdown",
   "metadata": {},
   "source": [
    "MODO: <i>append</i> <br>\n",
    "\n",
    "SÍMBOLO: <i>a</i> <br>\n",
    "\n",
    "DESCRIÇÃO: abre um arquivo existente para adicionar informações ao seu final"
   ]
  },
  {
   "cell_type": "markdown",
   "metadata": {},
   "source": [
    "MODO: <i>update</i> <br>\n",
    "\n",
    "SÍMBOLO: <i>+</i> <br>\n",
    "\n",
    "DESCRIÇÃO: ao ser combinado com outros modos, permite alteração de arquivo já existente (ex: r+ abre um arquivo existente e permite modificá-lo)"
   ]
  },
  {
   "cell_type": "markdown",
   "metadata": {},
   "source": [
    "Após abrirmos, ou criarmos um arquivo, podemos realizar diversas operações. Ao final de todas, devemos SEMPRE FECHAR o arquivo usando a função <i>open</i>"
   ]
  },
  {
   "cell_type": "markdown",
   "metadata": {},
   "source": [
    "A função <i>open</i> retorna alguns dados que devem ser salvos em uma variável que será responsável por guardar alguns dados de acesso ao arquivo, para uso interno do Python."
   ]
  },
  {
   "cell_type": "markdown",
   "metadata": {},
   "source": [
    "<h3>1.2 Escrevendo arquivos</h3>\n",
    "\n",
    "Para entender melhor o <i>open</i> e o <i>close</i> façamos um programinha que escreve algo em um arquivo."
   ]
  },
  {
   "cell_type": "markdown",
   "metadata": {},
   "source": [
    "<h3>1.3 Lendo arquivos</h3>\n",
    "\n",
    "Para ler um arquivo não basta abri-lo com o <i>open</i>. É necessário carregar o conteúdo para uma <i>string</i>. A função <i>read</i> faz o oposto da <i>write</i>:ela retorna o texto existente no arquivo."
   ]
  },
  {
   "cell_type": "code",
   "execution_count": null,
   "metadata": {},
   "outputs": [],
   "source": [
    "arquivo = open('ola.txt', 'r')\n",
    "conteudo = arquivo.read()\n",
    "print(conteudo)\n",
    "arquivo.close()"
   ]
  },
  {
   "cell_type": "markdown",
   "metadata": {},
   "source": [
    "<h3>2. Arquivos CSV</h3>\n",
    "<br>\n",
    "Aprenderemos a manipular dados utilizando um dos formatos de planilha mais amplamente utilizados na web: o formato CSV. Mas antes, como podemos representar tabelas em Python?\n"
   ]
  },
  {
   "cell_type": "markdown",
   "metadata": {},
   "source": [
    "<h3>2.1 Tabelas em Python</h3>\n",
    "<br>\n",
    "Pandas (não vem instalado por padrão)\n",
    "<br>\n",
    "Uma das formas mais simples de se representar uma tabela em Python seria através de uma <i>lista de listas</i>. <br>Nossa lista principal seria a tabela como um todo, e cada lista interna seria uma linha da tabela.<br>\n",
    "Para acessar um elemento individual, utilizamos 2 índices: <br>\n",
    "* o primeiro indica a lista interna (linha) e o \n",
    "<br>* segundo o elemento individual na lista (coluna). \n",
    "<br>Para percorrer a tabela inteira, utilizamos 2 <i>for</i> aninhados: o mais externo fixa uma linha e o mais interno percorre cada elemento daquela linha.\n"
   ]
  },
  {
   "cell_type": "code",
   "execution_count": null,
   "metadata": {},
   "outputs": [],
   "source": [
    "tabela = [['Aluno', 'Nota1', 'Nota2', 'Presenças'],\n",
    "\t\t['Luke', 7, 9, 15],\n",
    "\t\t['Han', 4, 7, 10],\n",
    "\t\t['Leia', 9, 9, 16]]\n",
    "\n",
    "print('Imprimindo cada elemento individual da tabela')\n",
    "for linha in tabela:\n",
    "\tfor elemento in linha:\n",
    "\t\tprint(elemento)\n",
    "\n",
    "print('Imprimendo cada \"linha\" da tabela')\n",
    "for linha in tabela:\n",
    "\tprint(linha)\n",
    "\n",
    "\n",
    "print('Imprimindo o elemento na linha 2, coluna 0:')\n",
    "print(tabela[2][0])"
   ]
  },
  {
   "cell_type": "markdown",
   "metadata": {},
   "source": [
    "<h3>2.2 O formato CSV</h3>\n",
    "<br>\n",
    "A sigla CSV significa <i>Comma-Separated Values</i>(valores separados por vírgula).<br>\n",
    "Este formato é uma forma padrão de representar tabelas usando arquivos de texto simples: cada elemento é separado por vírgula, e cada linha é separada por uma quebra de linha.\n"
   ]
  },
  {
   "cell_type": "markdown",
   "metadata": {},
   "source": [
    "<h3>2.3 O módulo CSV em Python</h3>\n",
    "<br>\n",
    "Devido à facilidade de trabalhar com arquivos CSV, com o que vimos sobre arquivos até o momento já conseguimos facilmente escrever um programinha que escreva uma planilha (representada como lista de listas) em um arquivo CSV. <br>\n",
    "<br>Da mesma forma, utilizando as funções que vimos de strings, conseguimos abrir um arquivo CSV e adequadamente reconhecer seus elementos (dica: split).\n",
    "<br>\n",
    "\n",
    "Porém, como mencionamos antes, o Python possui muita coisa pronta, então não precisamos constantemente reinventar a roda. Existe um módulo chamado csv que já vem instalado com o Python. Ele já faz sozinho o serviço bruto de transformar nossa lista de listas em um texto separado por símbolos e vice-versa.\n"
   ]
  },
  {
   "cell_type": "markdown",
   "metadata": {},
   "source": [
    "<h3>2.3.1 Escrevendo um CSV</h3>\n",
    "<br>\n",
    "Para escrever um CSV utilizando o módulo, precisamos ter nossos dados representados como uma lista de listas. <br>\n",
    "Criaremos (ou abriremos) um arquivo usando o open, como já fizemos antes, e utilizaremos um CSV <i>writer</i> - uma estrutura que guardará as regrinhas para escrever nosso CSV."
   ]
  },
  {
   "cell_type": "code",
   "execution_count": null,
   "metadata": {},
   "outputs": [],
   "source": [
    "import csv \n",
    "\n",
    "tabela = [['Aluno', 'Nota1', 'Nota2', 'Presenças'],\n",
    "\t\t['Luke', 7, 9, 15],\n",
    "\t\t['Han', 4, 7, 10],\n",
    "\t\t['Leia', 9, 9, 16]]\n",
    "\n",
    "# cria um arquivo csv\n",
    "arquivo = open('alunos.csv', 'w')\n",
    "\n",
    "# definindo as regras do nosso CSV:\n",
    "# ele será escrito no arquivo apontado pela variável 'arquivo'\n",
    "# seus elementos serão delimitados (delimiter) pelo símbolo ';'\n",
    "# suas linhas serão encerradas (lineterminator) por uma quebra de linha\n",
    "\n",
    "escritor = csv.writer(arquivo, delimiter=';', lineterminator='\\n')\n",
    "\n",
    "# escreve uma lista em formato csv\n",
    "escritor.writerows(tabela)\n",
    "\n",
    "# fecha e salva o arquivo\n",
    "arquivo.close()"
   ]
  },
  {
   "cell_type": "markdown",
   "metadata": {},
   "source": [
    "<h3>2.3.1 Lendo um CSV</h3>\n",
    "<br>\n",
    "O processo para ler o CSV é semelhante: utilizamos um CSV <i>reader</i>, com os mesmos parâmetros utilizados no CSV <i>writer</i>. A função csv.writer já retorna para nós uma estrutura iterável (ou seja, que pode ser percorrida com for) contendo cada linha já organizada como lista."
   ]
  },
  {
   "cell_type": "code",
   "execution_count": null,
   "metadata": {},
   "outputs": [],
   "source": [
    "import csv\n",
    "\n",
    "arquivo = open('alunos.csv', 'r')\n",
    "\n",
    "planilha = csv.reader(arquivo, delimiter=';', lineterminator='\\n')\n",
    "\n",
    "for linha in planilha:\n",
    "    print(linha)\n",
    "\n",
    "arquivo.close()"
   ]
  }
 ],
 "metadata": {
  "interpreter": {
   "hash": "7d04c2ccdc77879c44c0e38a475c5c944666b751d27f26244a0b0bd35fcecd56"
  },
  "kernelspec": {
   "display_name": "Python 3.10.2 64-bit",
   "language": "python",
   "name": "python3"
  },
  "language_info": {
   "codemirror_mode": {
    "name": "ipython",
    "version": 3
   },
   "file_extension": ".py",
   "mimetype": "text/x-python",
   "name": "python",
   "nbconvert_exporter": "python",
   "pygments_lexer": "ipython3",
   "version": "3.10.2"
  },
  "orig_nbformat": 4
 },
 "nbformat": 4,
 "nbformat_minor": 2
}
