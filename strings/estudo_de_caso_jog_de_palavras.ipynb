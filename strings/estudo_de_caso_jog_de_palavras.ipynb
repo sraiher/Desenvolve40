{
 "cells": [
  {
   "cell_type": "markdown",
   "metadata": {},
   "source": [
    "<h1>Estudo de caso: Jogo de Palavras<h1>"
   ]
  },
  {
   "cell_type": "markdown",
   "metadata": {},
   "source": [
    "Para esses exercícios vamos usar uma lista de palvras em inglês.<p>\n",
    "A lista que será usada você encontrará aqui: (https://drive.google.com/drive/folders/1hvIGDkeZy7xkQWvi6fushE764OC-EN7-)\n",
    "<p>\n",
    "Este arquivo está em texto simples, então você pode abri-lo com um editor de texto, mas também pode lê-lo no Python.\n",
    "<p>\n",
    "\n",
    "A função integrada `open` recebe o nome do arquivo como um parâmetro e retorna um **objeto de arquivo** que você pode usar para ler o arquivo."
   ]
  },
  {
   "cell_type": "markdown",
   "metadata": {},
   "source": [
    "`fin = open('words.txt')`"
   ]
  },
  {
   "cell_type": "markdown",
   "metadata": {},
   "source": [
    "_fin_ é um nome comum de objeto de arquivo para entrada de dados.<p>\n",
    "O objeto de arquivo oferece vários métodos de leitura, incluisive `readline`, que lê caracteres no arquivo té chegar a um comando de uma nova linha, devolvendo o resultado como uma _string_.<p>\n",
    "<p>\n",
    "\n",
    "`fin.readline()`<p>\n",
    "'aa' # primeira palavra"
   ]
  },
  {
   "cell_type": "markdown",
   "metadata": {},
   "source": [
    "`strip` é o método que retira o whitespace <p>\n",
    "<p>\n",
    "\n",
    "`line = fin.readline()`<p>\n",
    "`word = line.strip()`\n",
    "\n",
    "Você também pode usar um objeto de arquivo como parte de um loop `for`. Este programa lê `words.txt` e imprime cada palavra em um linha.<p>\n",
    "<p>\n",
    "\n",
    "~~~python\n",
    "fin = open(words.txt)\n",
    "for line in:\n",
    "\tword = line.strip()\n",
    "\tprint(word)\n",
    "~~~\n"
   ]
  },
  {
   "cell_type": "markdown",
   "metadata": {},
   "source": [
    "------------------------------------------------------------"
   ]
  },
  {
   "cell_type": "markdown",
   "metadata": {},
   "source": [
    "Exercício 9.1<p>\n",
    "Escreva um programa que leia `words.txt` e imprima apenas as palavras com mais de 20 caracteres (sem contar whitespace)."
   ]
  },
  {
   "cell_type": "markdown",
   "metadata": {},
   "source": [
    "-----------------------------\n"
   ]
  },
  {
   "cell_type": "code",
   "execution_count": null,
   "metadata": {},
   "outputs": [],
   "source": [
    "fin = open('words.txt')\n",
    "for line in fin:\n",
    "\tword = line.strip()\n",
    "\tif len(word) >= 20:\n",
    "\t\tprint(word)"
   ]
  },
  {
   "cell_type": "markdown",
   "metadata": {},
   "source": [
    "Exercício 9.2<p>\n",
    "\n",
    "Escreva uma função chamada **`has_no_e`** que retorne `True` se a palavra dada não tiver a letra 'e' nela.<p>\n",
    "Altere o seu programa anterior para imprimir apenas as palavras que não têm 'e' e calcule a porcentagem de palavras na lista que não têm 'e'.<p>\n",
    "* Curiosidade: Em 1939, Ernest Vincent Wright publicou uma novela de 50.000 palavras, chamada Gadsby, que não contém a letra 'e'. Como o 'e' é a letra mais comum em inglês, isso não pe nada fácil de fazer.<p>\n",
    "<p>\n"
   ]
  },
  {
   "cell_type": "markdown",
   "metadata": {},
   "source": [
    "----------------------------------\n"
   ]
  },
  {
   "cell_type": "code",
   "execution_count": 19,
   "metadata": {},
   "outputs": [
    {
     "data": {
      "text/plain": [
       "True"
      ]
     },
     "execution_count": 19,
     "metadata": {},
     "output_type": "execute_result"
    }
   ],
   "source": [
    "def has_no_e(word):\n",
    "\tfor letter in word:\n",
    "\t\tif letter == 'e':\n",
    "\t\t\treturn False\n",
    "\treturn True\n",
    "\n",
    "has_no_e('sandra')"
   ]
  },
  {
   "cell_type": "code",
   "execution_count": null,
   "metadata": {},
   "outputs": [],
   "source": [
    "def has_no_e(word, letter):\n",
    "\t\tif letter not in word:\n",
    "\t\t\treturn False\n",
    "\t\treturn True\n",
    "\n",
    "\n",
    "has_no_e('sandra', 'e' )"
   ]
  },
  {
   "cell_type": "markdown",
   "metadata": {},
   "source": [
    "Altere seu programa na seção anterior para imprimir apenas as palavras que não contém 'e' e calcule a porcentagem de palavras na lista que não têm 'e'."
   ]
  },
  {
   "cell_type": "code",
   "execution_count": null,
   "metadata": {},
   "outputs": [],
   "source": [
    "# rever"
   ]
  },
  {
   "cell_type": "markdown",
   "metadata": {},
   "source": [
    "Exercício 9.3<p>\n",
    "Escreva uma função chamada **`avoids`** que receba uma palavra e uma série de letras proibidas, e retorne `True` se a palavra não usar nenhuma das letras proibidas.<p>\n",
    "<p>\n",
    "Altere o código para que o usuário digite uma série de letras proibidas e o programa imprima o número de palavras que não contém nenhuma delas. <p>\n",
    "Você pode encontrar uma combinação de cinco letras proibidas que exclua o menor número possível de palavras?"
   ]
  },
  {
   "cell_type": "markdown",
   "metadata": {},
   "source": [
    "-----------------------------------------\n"
   ]
  },
  {
   "cell_type": "code",
   "execution_count": 41,
   "metadata": {},
   "outputs": [
    {
     "data": {
      "text/plain": [
       "False"
      ]
     },
     "execution_count": 41,
     "metadata": {},
     "output_type": "execute_result"
    }
   ],
   "source": [
    "def avoids(word, forbidden):\n",
    "\tfor letter in word:\n",
    "\t\tif letter in forbidden:\n",
    "\t\t\treturn False\n",
    "\treturn True\n",
    "\n",
    "avoids(word, 'zyg')"
   ]
  },
  {
   "cell_type": "markdown",
   "metadata": {},
   "source": [
    "Em vez de uma lista de palavras proibidas, temos uma lista de letras disponíveis. Se encontrarmos uma letra em `word` que não está em `available`, podemos retornar `False`."
   ]
  },
  {
   "cell_type": "markdown",
   "metadata": {},
   "source": [
    "Exercício 9.4<p>\n",
    "Escreva uma função chamada **`uses_only`** que receba uma palavra e uma série de letras e retorne `True`, se a palavra só contiver letras da lista. <p>Você pode fazer uma frase usando só as letras `acefhlo`? Que não seja \"Hoe alfafa\"?\n"
   ]
  },
  {
   "cell_type": "markdown",
   "metadata": {},
   "source": [
    "------------------------------\n"
   ]
  },
  {
   "cell_type": "markdown",
   "metadata": {},
   "source": [
    "Exercício 9.5<p>\n",
    "Escreva uma função chamada **`uses_all`** que receba uma palavra e uma série de letras obrigatórias e retorne `True` se a palavras usar todas as letras obrigatórias pelo menos uma vez. <p>\n",
    "Quantas palavras usam todas as vogais (`aeiou`)? E qual tem `aeiouy`?"
   ]
  },
  {
   "cell_type": "markdown",
   "metadata": {},
   "source": [
    "-----------------------------\n"
   ]
  },
  {
   "cell_type": "markdown",
   "metadata": {},
   "source": [
    "Exercício 9.6<p>\n",
    "Escreva uma função chamada **`is_abecedarian`** que retorne `True` se as letras numa palavra aparecerem em ordem alfabética (tudo bem se houver letras duplas).<p>\n",
    "Quantas palavras em ordem alfabética existem?"
   ]
  },
  {
   "cell_type": "markdown",
   "metadata": {},
   "source": [
    "---------------------------\n"
   ]
  }
 ],
 "metadata": {
  "interpreter": {
   "hash": "7d04c2ccdc77879c44c0e38a475c5c944666b751d27f26244a0b0bd35fcecd56"
  },
  "kernelspec": {
   "display_name": "Python 3.10.4 64-bit",
   "language": "python",
   "name": "python3"
  },
  "language_info": {
   "codemirror_mode": {
    "name": "ipython",
    "version": 3
   },
   "file_extension": ".py",
   "mimetype": "text/x-python",
   "name": "python",
   "nbconvert_exporter": "python",
   "pygments_lexer": "ipython3",
   "version": "3.10.4"
  },
  "orig_nbformat": 4
 },
 "nbformat": 4,
 "nbformat_minor": 2
}
