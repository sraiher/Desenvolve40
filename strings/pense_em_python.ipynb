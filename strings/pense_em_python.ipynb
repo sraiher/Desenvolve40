{
 "cells": [
  {
   "cell_type": "code",
   "execution_count": null,
   "metadata": {},
   "outputs": [],
   "source": [
    "fruit = 'banana'\n",
    "letter = fruit[1]\n",
    "print(letter)"
   ]
  },
  {
   "cell_type": "code",
   "execution_count": null,
   "metadata": {},
   "outputs": [],
   "source": [
    "# [1] = índice - se quisermos acessar a primeira letra, sempre será índice [0]\n",
    "letter = fruit[0]\n",
    "print(letter)"
   ]
  },
  {
   "cell_type": "code",
   "execution_count": null,
   "metadata": {},
   "outputs": [],
   "source": [
    "#usando expressão que contenha variáveis\n",
    "fruit = 'banana'\n",
    "i = 1\n",
    "fruit[i]\n",
    "print(fruit[i])\n",
    "print(fruit[i+1])\n"
   ]
  },
  {
   "cell_type": "code",
   "execution_count": null,
   "metadata": {},
   "outputs": [],
   "source": [
    "# len - função integrada que devolve o número de caracteres de uma string\n",
    "\n",
    "fruit = 'banana'\n",
    "print(len(fruit))"
   ]
  },
  {
   "cell_type": "code",
   "execution_count": null,
   "metadata": {},
   "outputs": [],
   "source": [
    "# para obter a última letra de uma string = Como a contagem inicia do zero, sempre será necessário \n",
    "lenght = len(fruit) # comprimento\n",
    "last = fruit[lenght-1] # último caracter\n",
    "print(last)"
   ]
  },
  {
   "cell_type": "code",
   "execution_count": null,
   "metadata": {},
   "outputs": [],
   "source": [
    "# índices negativos - contam de trás para frente\n",
    "\n",
    "fruit[-1]\n",
    "fruit[-2]\n",
    "fruit[-3]"
   ]
  },
  {
   "cell_type": "markdown",
   "metadata": {},
   "source": [
    "Travessia com loop for\n",
    "um modo de escrever uma travessia é usando while"
   ]
  },
  {
   "cell_type": "code",
   "execution_count": null,
   "metadata": {},
   "outputs": [],
   "source": [
    "fruit = 'banana'\n",
    "index = 0\n",
    "while index < len(fruit): # condição do loop\n",
    "\tletter = fruit[index]\n",
    "\tprint(letter)\n",
    "\tindex += 1"
   ]
  },
  {
   "cell_type": "markdown",
   "metadata": {},
   "source": [
    "Como exercício escreva uma função que receba um string como argumento e exiba as letras de trás ára frente, uma por linha"
   ]
  },
  {
   "cell_type": "code",
   "execution_count": null,
   "metadata": {},
   "outputs": [],
   "source": [
    "def inverte_string(string):\n",
    "\ti = -1\n",
    "\twhile i < len(string):\n",
    "\t\tletter = string[i]\n",
    "\t\tprint(letter)\n",
    "\t\ti -=1\n",
    "\n",
    "inverte_string('sandra')\n",
    "\n"
   ]
  },
  {
   "cell_type": "code",
   "execution_count": null,
   "metadata": {},
   "outputs": [],
   "source": [
    "# outra forma de fazer a travessia\n",
    "\n",
    "fruit = 'banana'\n",
    "for letter in fruit:\n",
    "\tprint(letter)\n",
    "\n",
    "# o loop continua até que não sobre nenhum caracter"
   ]
  },
  {
   "cell_type": "code",
   "execution_count": null,
   "metadata": {},
   "outputs": [],
   "source": [
    "# CONCATENAÇÃO de STRINGS (adição de strings)\n",
    "\n",
    "prefixos = 'JKLMNOPQ'\n",
    "sufixos = 'ack'\n",
    "\n",
    "for letra in prefixos:\n",
    "\tprint(letra + sufixos)"
   ]
  },
  {
   "cell_type": "code",
   "execution_count": null,
   "metadata": {},
   "outputs": [],
   "source": [
    "# FATIAMENTO de STRINGS (segmento de string = fatia)\n",
    "\n",
    "s = 'Monty Python'\n",
    "s[0:5]\n",
    "# 'Monty'\n",
    "s[6:12]\n",
    "# 'Python'\n",
    "\n",
    " # O operador [n:m] retorna a parte da string do enésimo ao emésimo caracter\n",
    " # se omitirmos o primeiro índice (antes dos dois pontos) a fatia começa no início da string, se omitir o segundo índice, a fatia vai ao fim da string.\n",
    "\n",
    "fruit = 'banana'\n",
    "fruit[:3]\n",
    "# 'ban'\n",
    "\n",
    "fruit[3:]\n",
    "# 'ana'"
   ]
  },
  {
   "cell_type": "code",
   "execution_count": null,
   "metadata": {},
   "outputs": [],
   "source": [
    "# se o primeiro índice for igual ao segundo, retornará uma string vazia\n",
    "\n",
    "fruit = 'banana'\n",
    "fruit[3:3]\n",
    "# ''"
   ]
  },
  {
   "cell_type": "code",
   "execution_count": null,
   "metadata": {},
   "outputs": [],
   "source": [
    "fruit = 'banana'\n",
    "fruit[:]\n",
    "# 'banana'"
   ]
  },
  {
   "cell_type": "code",
   "execution_count": null,
   "metadata": {},
   "outputs": [],
   "source": [
    "# STRINGS são IMUTÁVEIS\n",
    "\n",
    "gretting = 'Hello, world!'\n",
    "gretting[0] = 'J'\n",
    "# TypeError: 'str' object does not support item assignment\n",
    "# o objeto é a string e o 'item' é o caracter que tentamos atribuir\n",
    "\n",
    "# alterantiva que não tem efeito sobre a string original, criar uma string que seja variação da original"
   ]
  },
  {
   "cell_type": "code",
   "execution_count": 16,
   "metadata": {},
   "outputs": [
    {
     "data": {
      "text/plain": [
       "'Jello, world!'"
      ]
     },
     "execution_count": 16,
     "metadata": {},
     "output_type": "execute_result"
    }
   ],
   "source": [
    "gretting = 'Hello, world!'\n",
    "new_gretting = 'J' + gretting[1:]\n",
    "new_gretting"
   ]
  },
  {
   "cell_type": "code",
   "execution_count": null,
   "metadata": {},
   "outputs": [],
   "source": [
    "# BUSCANDO - modelo de cálculo que atravessa uma sequência e volta quando encontramos o que procuramos\n",
    "\n",
    "def find(word, letter):\n",
    "\tindex = 0\n",
    "\twhile index <len(word):\n",
    "\t\tif word[index] == letter:\n",
    "\t\t\treturn index\n",
    "\t\tindex = index +1\n",
    "\treturn -1\n",
    "\n",
    "find('Sandra', 'r')"
   ]
  },
  {
   "cell_type": "code",
   "execution_count": null,
   "metadata": {},
   "outputs": [],
   "source": [
    "# LOOP e CONTAGEM\n",
    "\n",
    "word = 'banana'\n",
    "count = 0\n",
    "for letter in word:\n",
    "\tif letter == 'a':\n",
    "\t\tcount += 1\n",
    "print(count)"
   ]
  },
  {
   "cell_type": "code",
   "execution_count": 30,
   "metadata": {},
   "outputs": [
    {
     "data": {
      "text/plain": [
       "2"
      ]
     },
     "execution_count": 30,
     "metadata": {},
     "output_type": "execute_result"
    }
   ],
   "source": [
    "def conta_letra(word, letter):\n",
    "\tcount = 0\n",
    "\tfor l in word:\n",
    "\t\tif l == letter:\n",
    "\t\t\tcount += 1\n",
    "\treturn count\n",
    "conta_letra('Sandra', 'a')"
   ]
  },
  {
   "cell_type": "code",
   "execution_count": 31,
   "metadata": {},
   "outputs": [
    {
     "data": {
      "text/plain": [
       "'BANANA'"
      ]
     },
     "execution_count": 31,
     "metadata": {},
     "output_type": "execute_result"
    }
   ],
   "source": [
    "# MÉTODOS de STRINGS\n",
    "\n",
    "# UPPER \n",
    "\n",
    "word = 'banana'\n",
    "new_word = word.upper()\n",
    "new_word"
   ]
  },
  {
   "cell_type": "code",
   "execution_count": 33,
   "metadata": {},
   "outputs": [
    {
     "data": {
      "text/plain": [
       "'banana'"
      ]
     },
     "execution_count": 33,
     "metadata": {},
     "output_type": "execute_result"
    }
   ],
   "source": [
    "# lower \n",
    "\n",
    "word = 'BANANA'\n",
    "new_word = word.lower()\n",
    "new_word\n",
    "\n",
    "# Uma chamada de método é um INVOCAÇÃO - estamos INVOCANDO o método lower em word."
   ]
  },
  {
   "cell_type": "code",
   "execution_count": 37,
   "metadata": {},
   "outputs": [
    {
     "data": {
      "text/plain": [
       "4"
      ]
     },
     "execution_count": 37,
     "metadata": {},
     "output_type": "execute_result"
    }
   ],
   "source": [
    "# Método FIND\n",
    "\n",
    "word = 'banana'\n",
    "index = word.find('a')\n",
    "index\n",
    "\n",
    "\n",
    "# pode também encontrar substrings\n",
    "word.find('na')"
   ]
  },
  {
   "cell_type": "code",
   "execution_count": null,
   "metadata": {},
   "outputs": [],
   "source": [
    "word = 'banana'\n",
    "word.find('na', 3) # 3 é o índice onde deve iniciar a busca (retorna o índice 4)"
   ]
  },
  {
   "cell_type": "code",
   "execution_count": null,
   "metadata": {},
   "outputs": [],
   "source": [
    "name = 'bob'\n",
    "name.find('b', 1, 2)\n",
    "# retorna -1 ('b'  não aparece no intervalo de 1 a 2)"
   ]
  },
  {
   "cell_type": "code",
   "execution_count": null,
   "metadata": {},
   "outputs": [],
   "source": [
    "# OPERADOR IN (operador booleano)\n",
    "\n",
    "'a' in 'banana'\n",
    "'seed' in 'banana'"
   ]
  },
  {
   "cell_type": "code",
   "execution_count": null,
   "metadata": {},
   "outputs": [],
   "source": [
    "def in_both(word1, word2):\n",
    "\tfor letter in word1:\n",
    "\t\tif letter in word2:\n",
    "\t\t\tprint(letter)\n",
    "\n",
    "in_both('apples', 'oranges')"
   ]
  },
  {
   "cell_type": "code",
   "execution_count": 44,
   "metadata": {},
   "outputs": [
    {
     "name": "stdout",
     "output_type": "stream",
     "text": [
      "All right, bananas.\n"
     ]
    }
   ],
   "source": [
    "# COMPARAÇÃO DE STRINGS (operadores relacionais ==, >, < !=)\n",
    "\n",
    "if word == 'banana':\n",
    "\tprint('All right, bananas.')"
   ]
  },
  {
   "cell_type": "code",
   "execution_count": 68,
   "metadata": {},
   "outputs": [
    {
     "name": "stdout",
     "output_type": "stream",
     "text": [
      "Your word Sou,comes before banana.\n"
     ]
    }
   ],
   "source": [
    "word = 'Sou' # CUIDADO - Python dá precedência para a letra maiúscula! Embora 'sou' seja menor que 'banana'.\n",
    "if word < 'banana':\n",
    "\tprint('Your word ' + word +  ',comes before banana.')\n",
    "elif word > 'banana':\n",
    "\tprint('Your word ' + word +   ',comes after banana.')\n",
    "else:\n",
    "\tprint('All right bananas.')"
   ]
  },
  {
   "cell_type": "code",
   "execution_count": 73,
   "metadata": {},
   "outputs": [
    {
     "data": {
      "text/plain": [
       "True"
      ]
     },
     "execution_count": 73,
     "metadata": {},
     "output_type": "execute_result"
    }
   ],
   "source": [
    "def is_reverse(word1, word2):\n",
    "\tif len(word1) != len(word2):\n",
    "\t\treturn False\n",
    "\ti = 0\n",
    "\tj = len(word2) - 1 #lembra que começa a contar do zero?\n",
    "\twhile j >= 0:\n",
    "\t\tif word1[i] != word2[j]:\n",
    "\t\t\treturn False\n",
    "\t\ti = i+1\n",
    "\t\tj = j-1\n",
    "\treturn True\n",
    "is_reverse('pots', 'stop')"
   ]
  },
  {
   "cell_type": "markdown",
   "metadata": {},
   "source": [
    "1. Faça um programa que peça para o usuário digitar uma palavra e imprima cada letra em uma linha."
   ]
  },
  {
   "cell_type": "code",
   "execution_count": null,
   "metadata": {},
   "outputs": [],
   "source": [
    "word = input('Digite uma palavra  ')\n",
    "for letter in word:\n",
    "\tprint(letter)"
   ]
  },
  {
   "cell_type": "markdown",
   "metadata": {},
   "source": [
    "2. Faça um programa que pede para o usuário digitar uma palavra e cria uma nova string igual, copiando letra por letra a palavra digitada, depois imprima a nova string."
   ]
  },
  {
   "cell_type": "code",
   "execution_count": null,
   "metadata": {},
   "outputs": [],
   "source": [
    "palavra = input('Digite uma palavra:' ) \n",
    "palavra_lista = list(palavra) \n",
    "print(palavra_lista) \n",
    "exemplo_modificado = ''.join(palavra_lista) \n",
    "print(exemplo_modificado)"
   ]
  },
  {
   "cell_type": "code",
   "execution_count": 7,
   "metadata": {},
   "outputs": [
    {
     "name": "stdout",
     "output_type": "stream",
     "text": [
      "sandra\n"
     ]
    }
   ],
   "source": [
    "# Resposta sugerida\n",
    "\n",
    "palavra = input(\"Digite uma palavra: \")\n",
    "nova_palavra = \"\"\n",
    "for letra in palavra:\n",
    "    nova_palavra += letra\n",
    "print(nova_palavra)"
   ]
  },
  {
   "cell_type": "markdown",
   "metadata": {},
   "source": [
    "Temos alguns pontos importantes para tratar aqui:\n",
    "\n",
    "Para que isso funcione, temos que criar a variável de cópia (nesse caso a nova_palavra) como uma String vazia antes de iniciar a estrutura de repetição. Isso porque só é possível operar variáveis do mesmo tipo, lembra?<br>\n",
    "Diferente de uma lista, não é possível alterar valores de strings através do acesso ao índice, então você pode concatenar letras (ou palavras) mas substituí-las só é possível através de algumas funções."
   ]
  },
  {
   "cell_type": "markdown",
   "metadata": {},
   "source": [
    "3. Altere o exercício anterior para que a string copiada alterne entre letras maiúsculas e minúsculas.\n",
    "\n",
    "Exemplo: se o usuário digitar \"latex\" o programa deve imprimir \"LaTeX\"."
   ]
  },
  {
   "cell_type": "markdown",
   "metadata": {},
   "source": [
    "\n",
    "Aqui as coisas começam a ficar interessantes!<br>\n",
    "<br>\n",
    "O desafio é simples mas pela primeira vez vamos utilizar funções criadas especialmente para o tipo de variável String.<br>\n",
    "<br>\n",
    "Então vamos lá, alterando o exercício anterior, precisamos alterar a palavra entre letras maiúsculas e minúsculas. Como? Bom, se pensarmos nas posições numéricas das letras, é simples concluir que podemos fazer uso do fato que sempre teremos um número par, outro ímpar, um par, um ímpar e assim por diante.<br>\n",
    "<br>\n",
    "Vamos fazer isso então: o segredo é utilizar a estrutura do for com a função range() para gerar uma lista de posições em cima da função len() que por sua vez retorna o tamanho da string passada.<br>\n",
    "<br>\n",
    "Perceba que é muito semelhante aos exercícios que fizemos lá atrás sobre números pares e ímpares e novamente utilizamos o %2 para verificar se uma posição é par ou não (%2 retorna o resto da divisão por 2)."
   ]
  },
  {
   "cell_type": "code",
   "execution_count": null,
   "metadata": {},
   "outputs": [],
   "source": [
    "# Resposta sugerida:\n",
    "\n",
    "palavra = input(\"Digite uma palavra: \")\n",
    "nova_palavra = \"\" # como strings são imutáveis, precisamos criar uma nova variável para recebê-la\n",
    "for i in range(len(palavra)):\n",
    "    letra = palavra[i]\n",
    "    if i%2 == 0:\n",
    "        nova_palavra += letra.upper()\n",
    "    else:\n",
    "        nova_palavra += letra.lower()\n",
    "print(nova_palavra)"
   ]
  },
  {
   "cell_type": "markdown",
   "metadata": {},
   "source": [
    "4. Faça um programa que pede para o usuário digitar uma palavra e cria uma nova string igual, porém com espaço entre cada letra, depois imprima a nova string:\n",
    "\n",
    "Exemplo: se o usuário digitar \"python\" o programa deve imprimir \"p y t h o n \""
   ]
  },
  {
   "cell_type": "code",
   "execution_count": null,
   "metadata": {},
   "outputs": [],
   "source": [
    "word = input('Digite uma palavra  ')\n",
    "new_word = ''\n",
    "for letter in word:\n",
    "\tnew_word += letter + ' '\n",
    "print(new_word)"
   ]
  },
  {
   "cell_type": "markdown",
   "metadata": {},
   "source": [
    "5. Faça uma função que receba uma string e retorne uma nova string substituindo:\n",
    "\n",
    "'a' por '4'\n",
    "\n",
    "'e' por '3'\n",
    "\n",
    "'I' por '1'\n",
    "\n",
    "'t' por '7'"
   ]
  },
  {
   "cell_type": "code",
   "execution_count": 16,
   "metadata": {},
   "outputs": [
    {
     "name": "stdout",
     "output_type": "stream",
     "text": [
      " 4p3n4s 73s74ndo\n"
     ]
    }
   ],
   "source": [
    "def H4CK3R(word):\n",
    "\tnew_string = \" \"\n",
    "\tfor letter in word:\n",
    "\t\tif letter.lower() == 'a':\n",
    "\t\t\tnew_string += '4'\n",
    "\t\telif letter.lower() == 'e':\n",
    "\t\t\tnew_string += '3'\n",
    "\t\telif letter.lower() == 'i':\n",
    "\t\t\tnew_string += '1'\n",
    "\t\telif letter.lower() == 't':\n",
    "\t\t\tnew_string += '7'\n",
    "\t\telse:\n",
    "\t\t\tnew_string += letter\n",
    "\treturn (new_string)\n",
    "\n",
    "print(H4CK3R('Apenas testando'))"
   ]
  },
  {
   "cell_type": "markdown",
   "metadata": {},
   "source": [
    "6. Faça uma função que recebe uma string e retorna ela ao contrário.\n",
    "\n",
    "Exemplo: Recebe \"teste\" e retorna \"etset\"."
   ]
  },
  {
   "cell_type": "code",
   "execution_count": 20,
   "metadata": {},
   "outputs": [
    {
     "name": "stdout",
     "output_type": "stream",
     "text": [
      "etset\n"
     ]
    }
   ],
   "source": [
    "def inverte(palavra):\n",
    "    string = \"\"\n",
    "    for letra in palavra:\n",
    "        string = letra + string\n",
    "    return string\n",
    "\n",
    "print(inverte(\"teste\"))"
   ]
  },
  {
   "cell_type": "markdown",
   "metadata": {},
   "source": [
    "7. Agora faça uma função que recebe uma palavra e diz se ela é um palíndromo, ou seja, se ela é igual a ela mesma ao contrário.\n",
    "\n",
    "Dica: Use a função do exercício 6."
   ]
  },
  {
   "cell_type": "code",
   "execution_count": 21,
   "metadata": {},
   "outputs": [
    {
     "name": "stdout",
     "output_type": "stream",
     "text": [
      "missa é assim é um palíndromo.\n"
     ]
    }
   ],
   "source": [
    "# Função criada no ex. 6\n",
    "\n",
    "def inverte(palavra):\n",
    "    return palavra[::-1]\n",
    "\n",
    "# função ex. 07\n",
    "\n",
    "def palindromo(palavra):\n",
    "    palavra = palavra.lower() # Remove letras maiúsculas\n",
    "    if palavra == inverte(palavra):\n",
    "        print(palavra, \"é um palíndromo.\")\n",
    "    else:\n",
    "        print(palavra, \"não é um palíndromo.\")\n",
    "\n",
    "palindromo(\"Missa é assim\")"
   ]
  },
  {
   "cell_type": "markdown",
   "metadata": {},
   "source": [
    "8. Faça uma função que receba um texto e uma palavra, então verifique se a palavra está no texto, retornando True ou False."
   ]
  },
  {
   "cell_type": "code",
   "execution_count": 1,
   "metadata": {},
   "outputs": [],
   "source": [
    "def pertence(texto, palavra):\n",
    "    if palavra in texto:\n",
    "        return True\n",
    "    return False\n",
    "\n",
    "# OU\n",
    "\n",
    "def pertence(texto, palavra): # resumido\n",
    "    return palavra in texto"
   ]
  },
  {
   "cell_type": "markdown",
   "metadata": {},
   "source": [
    "9. Faça uma função que receba uma string que contém tanto números quanto letras e caracteres especiais, e que separe as letras em uma variável e os números em outra (os caracteres especiais podem ser descartados). Ao final a função deve imprimir as duas variáveis."
   ]
  },
  {
   "cell_type": "code",
   "execution_count": null,
   "metadata": {},
   "outputs": [],
   "source": [
    "def separador(texto):\n",
    "    letras = \"\"\n",
    "    numeros = \"\"\n",
    "\n",
    "    for item in texto:\n",
    "        if item.isdigit(): #verifica se é digito\n",
    "            numeros += item\n",
    "        elif item.isalpha(): #verifica se é letra\n",
    "            letras += item\n",
    "    print(\"As letras são:  \", letras)\n",
    "    print(\"Os números são: \", numeros)\n",
    "    return letras, numeros"
   ]
  },
  {
   "cell_type": "markdown",
   "metadata": {},
   "source": [
    "10. Desafio - Faça uma função que receba uma string e uma letra e:\n",
    "\n",
    "a. imprima quantas vezes a letra aparece na string;\n",
    "\n",
    "b. imprima todas as posições em que a letra aparece na string;\n",
    "\n",
    "c. retorne a distância entre a primeira e a última aparição dessa letra na string."
   ]
  },
  {
   "cell_type": "code",
   "execution_count": null,
   "metadata": {},
   "outputs": [],
   "source": [
    "def desafio1(texto, letra):\n",
    "    vezes = 0\n",
    "    posicoes = []\n",
    "    for i in range(len(texto)):\n",
    "        if texto[i] == letra:\n",
    "            vezes += 1\n",
    "            posicoes.append(i)\n",
    "\n",
    "    if posicoes == []: # Caso não apareça nenhuma vez\n",
    "        print(letra, \"não aparece no texto.\")\n",
    "        return -1 \n",
    "\n",
    "    # Se chegar aqui, quer dizer que apareceu pelo menos 1 vez\n",
    "    print(letra, \"aparece\", vezes, \"vezes no texto\")\n",
    "    print(\"As posições na qual ela aparece são\", posicoes)\n",
    "    return posicoes[-1] - posicoes[0]\n",
    "\n",
    "\n",
    "#Exemplo:\n",
    "\n",
    "texto = \"Lorem ipsum dolor sit amet, consectetur adipiscing elit.\"\n",
    "letra = \"o\"\n",
    "print(desafio1(texto, letra))"
   ]
  },
  {
   "cell_type": "markdown",
   "metadata": {},
   "source": [
    "11. Super Desafio! - faça uma função que criptografa uma mensagem substituindo cada letra pela letra oposta do dicionário:\n",
    "\n",
    "'a' por 'z'\n",
    "\n",
    "'b' por 'y'\n",
    "\n",
    "'c' por 'x'"
   ]
  },
  {
   "cell_type": "code",
   "execution_count": null,
   "metadata": {},
   "outputs": [],
   "source": [
    "import string\n",
    "def criptografa(mensagem):\n",
    "    alfabeto1 = string.ascii_lowercase #retorna uma string com todas as letras do alfabeto minúsculas = abcdefghijklmnopqrstuvwxyz\n",
    "    alfabeto2 = string.ascii_uppercase #retorna uma string com todas as letras do alfabeto maiúsculas = ABCDEFGHIJKLMNOPQRSTUVWXYZ\n",
    "    nova_mensagem = \"\"\n",
    "    for item in mensagem:\n",
    "        if item in alfabeto1:\n",
    "            indice = alfabeto1.index(item)\n",
    "            letra_oposta = alfabeto1[-1 - indice]\n",
    "            nova_mensagem += letra_oposta\n",
    "        elif item in alfabeto2:\n",
    "            indice = alfabeto2.index(item)\n",
    "            letra_oposta = alfabeto2[-1 - indice]\n",
    "            nova_mensagem += letra_oposta\n",
    "        else:\n",
    "            nova_mensagem += item\n",
    "    return nova_mensagem\n",
    "\n",
    "texto = \"aBcd eFghij kLmn\"\n",
    "criptografado = criptografa(texto)\n",
    "print(criptografado)\n",
    "print(criptografa(criptografado)) # Texto original"
   ]
  }
 ],
 "metadata": {
  "interpreter": {
   "hash": "7d04c2ccdc77879c44c0e38a475c5c944666b751d27f26244a0b0bd35fcecd56"
  },
  "kernelspec": {
   "display_name": "Python 3.10.2 64-bit",
   "language": "python",
   "name": "python3"
  },
  "language_info": {
   "codemirror_mode": {
    "name": "ipython",
    "version": 3
   },
   "file_extension": ".py",
   "mimetype": "text/x-python",
   "name": "python",
   "nbconvert_exporter": "python",
   "pygments_lexer": "ipython3",
   "version": "3.10.2"
  },
  "orig_nbformat": 4
 },
 "nbformat": 4,
 "nbformat_minor": 2
}
